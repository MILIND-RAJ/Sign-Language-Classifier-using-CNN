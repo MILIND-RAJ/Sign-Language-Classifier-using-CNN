{
  "nbformat": 4,
  "nbformat_minor": 0,
  "metadata": {
    "colab": {
      "name": "Sign Language MNIST CNN.ipynb",
      "provenance": []
    },
    "coursera": {
      "course_slug": "convolutional-neural-networks-tensorflow",
      "graded_item_id": "8mIh8",
      "launcher_item_id": "gg95t"
    },
    "kernelspec": {
      "display_name": "Python 3",
      "language": "python",
      "name": "python3"
    },
    "language_info": {
      "codemirror_mode": {
        "name": "ipython",
        "version": 3
      },
      "file_extension": ".py",
      "mimetype": "text/x-python",
      "name": "python",
      "nbconvert_exporter": "python",
      "pygments_lexer": "ipython3",
      "version": "3.6.8"
    }
  },
  "cells": [
    {
      "cell_type": "code",
      "metadata": {
        "id": "wYtuKeK0dImp"
      },
      "source": [
        "import csv\n",
        "import numpy as np\n",
        "import tensorflow as tf\n",
        "from tensorflow.keras.preprocessing.image import ImageDataGenerator\n",
        "from os import getcwd"
      ],
      "execution_count": 1,
      "outputs": []
    },
    {
      "cell_type": "code",
      "metadata": {
        "id": "4kxw-_rmcnVu"
      },
      "source": [
        "def get_data(filename):\n",
        "    with open(filename) as training_file:\n",
        "        count=0\n",
        "        images=[]\n",
        "        labels=[]\n",
        "        Lines = training_file.readlines()\n",
        "        for line in Lines:\n",
        "            if count==0:\n",
        "                count=1\n",
        "            else:\n",
        "                img=line.split(',')\n",
        "                img1=[]\n",
        "                for i in img:\n",
        "                    img1.append(int(i))\n",
        "                img1=np.array(img1).astype('float')\n",
        "                img1=img1[1:785]\n",
        "                img1=img1.reshape(28,28)\n",
        "                lab=int(img[0])\n",
        "                images.append(img1)\n",
        "                labels.append(lab)\n",
        "        images=np.array(images)\n",
        "        labels=np.array(labels)\n",
        "    return images, labels\n",
        "\n",
        "path_sign_mnist_train = f\"{getcwd()}/../content/sign_mnist_test.csv\"\n",
        "path_sign_mnist_test = f\"{getcwd()}/../content/sign_mnist_train.csv\"\n",
        "training_images, training_labels = get_data(path_sign_mnist_train)\n",
        "testing_images, testing_labels = get_data(path_sign_mnist_test)"
      ],
      "execution_count": 3,
      "outputs": []
    },
    {
      "cell_type": "code",
      "metadata": {
        "id": "awoqRpyZdQkD"
      },
      "source": [
        "training_images = np.expand_dims(training_images, axis=3)\n",
        "testing_images = np.expand_dims(testing_images, axis=3)\n",
        "train_datagen = ImageDataGenerator(\n",
        "      rescale = 1./255,\n",
        "      rotation_range=40,\n",
        "      width_shift_range=0.2,\n",
        "      height_shift_range=0.2,\n",
        "      shear_range=0.2,\n",
        "      zoom_range=0.2,\n",
        "      horizontal_flip=True,\n",
        "      fill_mode='nearest'\n",
        "    )\n",
        "\n",
        "validation_datagen = ImageDataGenerator(rescale = 1./255)"
      ],
      "execution_count": 4,
      "outputs": []
    },
    {
      "cell_type": "code",
      "metadata": {
        "colab": {
          "base_uri": "https://localhost:8080/"
        },
        "id": "Rmb7S32cgRqS",
        "outputId": "5605d84b-292b-429a-ab86-9ac385c264f6"
      },
      "source": [
        "model = tf.keras.models.Sequential([\n",
        "    tf.keras.layers.Conv2D(64, (3,3), activation='relu', input_shape=(28, 28, 1)),\n",
        "    tf.keras.layers.MaxPooling2D(2, 2),\n",
        "    tf.keras.layers.Conv2D(64, (3,3), activation='relu'),\n",
        "    tf.keras.layers.MaxPooling2D(2,2),\n",
        "    tf.keras.layers.Flatten(),\n",
        "    tf.keras.layers.Dropout(0.2),\n",
        "    tf.keras.layers.Dense(512, activation='relu'),\n",
        "    tf.keras.layers.Dense(26, activation='softmax')\n",
        "])\n",
        "\n",
        "model.compile(loss = 'sparse_categorical_crossentropy', optimizer='Adam', metrics=['accuracy'])\n",
        "\n",
        "\n",
        "history = model.fit_generator(train_datagen.flow(training_images, training_labels, batch_size=32),\n",
        "                              steps_per_epoch=len(training_images) / 32,\n",
        "                              epochs=10,\n",
        "                              validation_data=validation_datagen.flow(testing_images, testing_labels, batch_size=32),\n",
        "                              validation_steps=len(testing_images) / 32)\n",
        "model.evaluate(testing_images, testing_labels, verbose=0)"
      ],
      "execution_count": 5,
      "outputs": [
        {
          "output_type": "stream",
          "text": [
            "/usr/local/lib/python3.7/dist-packages/tensorflow/python/keras/engine/training.py:1844: UserWarning: `Model.fit_generator` is deprecated and will be removed in a future version. Please use `Model.fit`, which supports generators.\n",
            "  warnings.warn('`Model.fit_generator` is deprecated and '\n"
          ],
          "name": "stderr"
        },
        {
          "output_type": "stream",
          "text": [
            "Epoch 1/10\n",
            "224/224 [==============================] - 27s 115ms/step - loss: 3.1634 - accuracy: 0.0707 - val_loss: 2.9194 - val_accuracy: 0.1327\n",
            "Epoch 2/10\n",
            "224/224 [==============================] - 26s 118ms/step - loss: 2.8887 - accuracy: 0.1418 - val_loss: 2.4947 - val_accuracy: 0.2279\n",
            "Epoch 3/10\n",
            "224/224 [==============================] - 26s 116ms/step - loss: 2.5431 - accuracy: 0.2294 - val_loss: 1.9871 - val_accuracy: 0.3677\n",
            "Epoch 4/10\n",
            "224/224 [==============================] - 26s 115ms/step - loss: 2.2475 - accuracy: 0.3163 - val_loss: 2.0159 - val_accuracy: 0.3730\n",
            "Epoch 5/10\n",
            "224/224 [==============================] - 26s 117ms/step - loss: 2.0512 - accuracy: 0.3532 - val_loss: 1.5101 - val_accuracy: 0.5151\n",
            "Epoch 6/10\n",
            "224/224 [==============================] - 26s 116ms/step - loss: 1.8807 - accuracy: 0.3902 - val_loss: 1.6412 - val_accuracy: 0.4533\n",
            "Epoch 7/10\n",
            "224/224 [==============================] - 26s 117ms/step - loss: 1.7277 - accuracy: 0.4443 - val_loss: 1.3919 - val_accuracy: 0.5309\n",
            "Epoch 8/10\n",
            "224/224 [==============================] - 26s 116ms/step - loss: 1.6259 - accuracy: 0.4750 - val_loss: 1.3257 - val_accuracy: 0.5410\n",
            "Epoch 9/10\n",
            "224/224 [==============================] - 26s 116ms/step - loss: 1.5210 - accuracy: 0.5041 - val_loss: 1.1928 - val_accuracy: 0.6072\n",
            "Epoch 10/10\n",
            "224/224 [==============================] - 26s 115ms/step - loss: 1.4527 - accuracy: 0.5235 - val_loss: 1.2231 - val_accuracy: 0.5850\n"
          ],
          "name": "stdout"
        },
        {
          "output_type": "execute_result",
          "data": {
            "text/plain": [
              "[196.95816040039062, 0.48282644152641296]"
            ]
          },
          "metadata": {
            "tags": []
          },
          "execution_count": 5
        }
      ]
    },
    {
      "cell_type": "code",
      "metadata": {
        "colab": {
          "base_uri": "https://localhost:8080/",
          "height": 545
        },
        "id": "_Q3Zpr46dsij",
        "outputId": "ec164471-0917-49d5-95d5-58cb09f4620d"
      },
      "source": [
        "%matplotlib inline\n",
        "import matplotlib.pyplot as plt\n",
        "acc = history.history['accuracy']\n",
        "val_acc = history.history['val_accuracy']\n",
        "loss = history.history['loss']\n",
        "val_loss = history.history['val_loss']\n",
        "\n",
        "epochs = range(len(acc))\n",
        "\n",
        "plt.plot(epochs, acc, 'r', label='Training accuracy')\n",
        "plt.plot(epochs, val_acc, 'b', label='Validation accuracy')\n",
        "plt.title('Training and validation accuracy')\n",
        "plt.legend()\n",
        "plt.figure()\n",
        "\n",
        "plt.plot(epochs, loss, 'r', label='Training Loss')\n",
        "plt.plot(epochs, val_loss, 'b', label='Validation Loss')\n",
        "plt.title('Training and validation loss')\n",
        "plt.legend()\n",
        "\n",
        "plt.show()"
      ],
      "execution_count": 6,
      "outputs": [
        {
          "output_type": "display_data",
          "data": {
            "image/png": "[encoded data removed]",
            "text/plain": [
              "<Figure size 432x288 with 1 Axes>"
            ]
          },
          "metadata": {
            "tags": [],
            "needs_background": "light"
          }
        },
        {
          "output_type": "display_data",
          "data": {
            "image/png": "[encoded data removed]",
            "text/plain": [
              "<Figure size 432x288 with 1 Axes>"
            ]
          },
          "metadata": {
            "tags": [],
            "needs_background": "light"
          }
        }
      ]
    },
    {
      "cell_type": "code",
      "metadata": {
        "id": "E-Fx0AcbCMjM"
      },
      "source": [
        ""
      ],
      "execution_count": null,
      "outputs": []
    }
  ]
}